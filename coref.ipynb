{
  "nbformat": 4,
  "nbformat_minor": 0,
  "metadata": {
    "colab": {
      "provenance": [],
      "authorship_tag": "ABX9TyPlQ9HNd9jAQvltPbSLtKzS",
      "include_colab_link": true
    },
    "kernelspec": {
      "name": "python3",
      "display_name": "Python 3"
    },
    "language_info": {
      "name": "python"
    }
  },
  "cells": [
    {
      "cell_type": "markdown",
      "metadata": {
        "id": "view-in-github",
        "colab_type": "text"
      },
      "source": [
        "<a href=\"https://colab.research.google.com/github/zphelps/beta-pearl-python/blob/main/coref.ipynb\" target=\"_parent\"><img src=\"https://colab.research.google.com/assets/colab-badge.svg\" alt=\"Open In Colab\"/></a>"
      ]
    },
    {
      "cell_type": "code",
      "execution_count": 2,
      "metadata": {
        "id": "pIrEq_LOhCuJ"
      },
      "outputs": [],
      "source": [
        "# !pip install -U spacy-experimental https://github.com/explosion/spacy-experimental/releases/download/v0.6.1/en_coreference_web_trf-3.4.0a2-py3-none-any.whl"
      ]
    },
    {
      "cell_type": "code",
      "source": [
        "# !pip install flask"
      ],
      "metadata": {
        "colab": {
          "base_uri": "https://localhost:8080/"
        },
        "id": "0LgzpZ4SE26n",
        "outputId": "b49d75ee-aacf-4389-a5e5-f4600c79c78e"
      },
      "execution_count": 4,
      "outputs": [
        {
          "output_type": "stream",
          "name": "stdout",
          "text": [
            "Requirement already satisfied: flask in /usr/local/lib/python3.10/dist-packages (2.2.5)\n",
            "Requirement already satisfied: Werkzeug>=2.2.2 in /usr/local/lib/python3.10/dist-packages (from flask) (3.0.1)\n",
            "Requirement already satisfied: Jinja2>=3.0 in /usr/local/lib/python3.10/dist-packages (from flask) (3.1.2)\n",
            "Requirement already satisfied: itsdangerous>=2.0 in /usr/local/lib/python3.10/dist-packages (from flask) (2.1.2)\n",
            "Requirement already satisfied: click>=8.0 in /usr/local/lib/python3.10/dist-packages (from flask) (8.1.7)\n",
            "Requirement already satisfied: MarkupSafe>=2.0 in /usr/local/lib/python3.10/dist-packages (from Jinja2>=3.0->flask) (2.1.3)\n"
          ]
        }
      ]
    },
    {
      "cell_type": "code",
      "source": [],
      "metadata": {
        "id": "vpkcL0ljE7B2"
      },
      "execution_count": null,
      "outputs": []
    },
    {
      "cell_type": "code",
      "source": [
        "import spacy\n",
        "from spacy.tokens import Doc\n",
        "import pandas as pd\n",
        "from flask import Flask\n",
        "\n",
        "nlp = spacy.load(\"en_coreference_web_trf\")\n",
        "\n",
        "app = Flask(__name__)\n",
        "\n",
        "@app.route('/api/resolve', methods=['POST'])\n",
        "def resolve_references(doc: Doc) -> str:\n",
        "    \"\"\"Function for resolving references with the coref ouput\n",
        "    doc (Doc): The Doc object processed by the coref pipeline\n",
        "    RETURNS (str): The Doc string with resolved references\n",
        "    \"\"\"\n",
        "    # token.idx : token.text\n",
        "    token_mention_mapper = {}\n",
        "    output_string = \"\"\n",
        "    clusters = [\n",
        "        val for key, val in doc.spans.items() if key.startswith(\"coref_cluster\")\n",
        "    ]\n",
        "\n",
        "    # Iterate through every found cluster\n",
        "    for cluster in clusters:\n",
        "        first_mention = cluster[0]\n",
        "        # Iterate through every other span in the cluster\n",
        "        for mention_span in list(cluster)[1:]:\n",
        "            # Set first_mention as value for the first token in mention_span in the token_mention_mapper\n",
        "            token_mention_mapper[mention_span[0].idx] = first_mention.text + mention_span[0].whitespace_\n",
        "\n",
        "            for token in mention_span[1:]:\n",
        "                # Set empty string for all the other tokens in mention_span\n",
        "                token_mention_mapper[token.idx] = \"\"\n",
        "\n",
        "    # Iterate through every token in the Doc\n",
        "    for token in doc:\n",
        "        # Check if token exists in token_mention_mapper\n",
        "        if token.idx in token_mention_mapper:\n",
        "            output_string += token_mention_mapper[token.idx]\n",
        "        # Else add original token text\n",
        "        else:\n",
        "            output_string += token.text + token.whitespace_\n",
        "\n",
        "    return output_string"
      ],
      "metadata": {
        "id": "V3qRvOh-hJAZ"
      },
      "execution_count": 5,
      "outputs": []
    },
    {
      "cell_type": "code",
      "source": [
        "text = [\"Noted! Would you like any assistance with preparations or arrangements for the Claypooles' visit? \\n no. David is not very excited for them to be coming though. do you know which david I'm talking about?\"]\n",
        "\n",
        "df = pd.DataFrame(text, columns=['text'])\n",
        "\n",
        "df['text-coref'] = [resolve_references(coref_doc) for coref_doc in nlp.pipe(df['text'])]\n",
        "\n",
        "for txt in df['text-coref']:\n",
        "    print(txt)"
      ],
      "metadata": {
        "colab": {
          "base_uri": "https://localhost:8080/"
        },
        "id": "fOzx8C5FhK8b",
        "outputId": "8ea6199c-fc01-431d-e504-00563aa8dd4c"
      },
      "execution_count": 6,
      "outputs": [
        {
          "output_type": "stream",
          "name": "stdout",
          "text": [
            "Noted! Would you like any assistance with preparations or arrangements for the Claypooles' visit? \n",
            " no. David is not very excited for the Claypooles' to be coming though. do you know which david I'm talking about?\n"
          ]
        }
      ]
    }
  ]
}